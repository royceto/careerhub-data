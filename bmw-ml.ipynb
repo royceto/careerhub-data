{
 "cells": [
  {
   "cell_type": "markdown",
   "source": [
    "# BMW - Machine Learning"
   ],
   "metadata": {}
  },
  {
   "cell_type": "code",
   "execution_count": 382,
   "source": [
    "# libraries\n",
    "import pandas as pd\n",
    "import numpy as np\n",
    "import matplotlib.pyplot as plt\n",
    "import seaborn as sns"
   ],
   "outputs": [],
   "metadata": {}
  },
  {
   "cell_type": "code",
   "execution_count": 355,
   "source": [
    "bmw = pd.read_csv(\"BMW Used Car Sales/bmw.csv\")"
   ],
   "outputs": [],
   "metadata": {}
  },
  {
   "cell_type": "code",
   "execution_count": 356,
   "source": [
    "bmw.index.name = \"id\"\n",
    "bmw.reset_index()"
   ],
   "outputs": [
    {
     "output_type": "execute_result",
     "data": {
      "text/plain": [
       "          id      model  year  price transmission  mileage fuelType  tax  \\\n",
       "0          0   5 Series  2014  11200    Automatic    67068   Diesel  125   \n",
       "1          1   6 Series  2018  27000    Automatic    14827   Petrol  145   \n",
       "2          2   5 Series  2016  16000    Automatic    62794   Diesel  160   \n",
       "3          3   1 Series  2017  12750    Automatic    26676   Diesel  145   \n",
       "4          4   7 Series  2014  14500    Automatic    39554   Diesel  160   \n",
       "...      ...        ...   ...    ...          ...      ...      ...  ...   \n",
       "10776  10776         X3  2016  19000    Automatic    40818   Diesel  150   \n",
       "10777  10777   5 Series  2016  14600    Automatic    42947   Diesel  125   \n",
       "10778  10778   3 Series  2017  13100       Manual    25468   Petrol  200   \n",
       "10779  10779   1 Series  2014   9930    Automatic    45000   Diesel   30   \n",
       "10780  10780         X1  2017  15981    Automatic    59432   Diesel  125   \n",
       "\n",
       "        mpg  engineSize  \n",
       "0      57.6         2.0  \n",
       "1      42.8         2.0  \n",
       "2      51.4         3.0  \n",
       "3      72.4         1.5  \n",
       "4      50.4         3.0  \n",
       "...     ...         ...  \n",
       "10776  54.3         2.0  \n",
       "10777  60.1         2.0  \n",
       "10778  42.8         2.0  \n",
       "10779  64.2         2.0  \n",
       "10780  57.6         2.0  \n",
       "\n",
       "[10781 rows x 10 columns]"
      ],
      "text/html": [
       "<div>\n",
       "<style scoped>\n",
       "    .dataframe tbody tr th:only-of-type {\n",
       "        vertical-align: middle;\n",
       "    }\n",
       "\n",
       "    .dataframe tbody tr th {\n",
       "        vertical-align: top;\n",
       "    }\n",
       "\n",
       "    .dataframe thead th {\n",
       "        text-align: right;\n",
       "    }\n",
       "</style>\n",
       "<table border=\"1\" class=\"dataframe\">\n",
       "  <thead>\n",
       "    <tr style=\"text-align: right;\">\n",
       "      <th></th>\n",
       "      <th>id</th>\n",
       "      <th>model</th>\n",
       "      <th>year</th>\n",
       "      <th>price</th>\n",
       "      <th>transmission</th>\n",
       "      <th>mileage</th>\n",
       "      <th>fuelType</th>\n",
       "      <th>tax</th>\n",
       "      <th>mpg</th>\n",
       "      <th>engineSize</th>\n",
       "    </tr>\n",
       "  </thead>\n",
       "  <tbody>\n",
       "    <tr>\n",
       "      <th>0</th>\n",
       "      <td>0</td>\n",
       "      <td>5 Series</td>\n",
       "      <td>2014</td>\n",
       "      <td>11200</td>\n",
       "      <td>Automatic</td>\n",
       "      <td>67068</td>\n",
       "      <td>Diesel</td>\n",
       "      <td>125</td>\n",
       "      <td>57.6</td>\n",
       "      <td>2.0</td>\n",
       "    </tr>\n",
       "    <tr>\n",
       "      <th>1</th>\n",
       "      <td>1</td>\n",
       "      <td>6 Series</td>\n",
       "      <td>2018</td>\n",
       "      <td>27000</td>\n",
       "      <td>Automatic</td>\n",
       "      <td>14827</td>\n",
       "      <td>Petrol</td>\n",
       "      <td>145</td>\n",
       "      <td>42.8</td>\n",
       "      <td>2.0</td>\n",
       "    </tr>\n",
       "    <tr>\n",
       "      <th>2</th>\n",
       "      <td>2</td>\n",
       "      <td>5 Series</td>\n",
       "      <td>2016</td>\n",
       "      <td>16000</td>\n",
       "      <td>Automatic</td>\n",
       "      <td>62794</td>\n",
       "      <td>Diesel</td>\n",
       "      <td>160</td>\n",
       "      <td>51.4</td>\n",
       "      <td>3.0</td>\n",
       "    </tr>\n",
       "    <tr>\n",
       "      <th>3</th>\n",
       "      <td>3</td>\n",
       "      <td>1 Series</td>\n",
       "      <td>2017</td>\n",
       "      <td>12750</td>\n",
       "      <td>Automatic</td>\n",
       "      <td>26676</td>\n",
       "      <td>Diesel</td>\n",
       "      <td>145</td>\n",
       "      <td>72.4</td>\n",
       "      <td>1.5</td>\n",
       "    </tr>\n",
       "    <tr>\n",
       "      <th>4</th>\n",
       "      <td>4</td>\n",
       "      <td>7 Series</td>\n",
       "      <td>2014</td>\n",
       "      <td>14500</td>\n",
       "      <td>Automatic</td>\n",
       "      <td>39554</td>\n",
       "      <td>Diesel</td>\n",
       "      <td>160</td>\n",
       "      <td>50.4</td>\n",
       "      <td>3.0</td>\n",
       "    </tr>\n",
       "    <tr>\n",
       "      <th>...</th>\n",
       "      <td>...</td>\n",
       "      <td>...</td>\n",
       "      <td>...</td>\n",
       "      <td>...</td>\n",
       "      <td>...</td>\n",
       "      <td>...</td>\n",
       "      <td>...</td>\n",
       "      <td>...</td>\n",
       "      <td>...</td>\n",
       "      <td>...</td>\n",
       "    </tr>\n",
       "    <tr>\n",
       "      <th>10776</th>\n",
       "      <td>10776</td>\n",
       "      <td>X3</td>\n",
       "      <td>2016</td>\n",
       "      <td>19000</td>\n",
       "      <td>Automatic</td>\n",
       "      <td>40818</td>\n",
       "      <td>Diesel</td>\n",
       "      <td>150</td>\n",
       "      <td>54.3</td>\n",
       "      <td>2.0</td>\n",
       "    </tr>\n",
       "    <tr>\n",
       "      <th>10777</th>\n",
       "      <td>10777</td>\n",
       "      <td>5 Series</td>\n",
       "      <td>2016</td>\n",
       "      <td>14600</td>\n",
       "      <td>Automatic</td>\n",
       "      <td>42947</td>\n",
       "      <td>Diesel</td>\n",
       "      <td>125</td>\n",
       "      <td>60.1</td>\n",
       "      <td>2.0</td>\n",
       "    </tr>\n",
       "    <tr>\n",
       "      <th>10778</th>\n",
       "      <td>10778</td>\n",
       "      <td>3 Series</td>\n",
       "      <td>2017</td>\n",
       "      <td>13100</td>\n",
       "      <td>Manual</td>\n",
       "      <td>25468</td>\n",
       "      <td>Petrol</td>\n",
       "      <td>200</td>\n",
       "      <td>42.8</td>\n",
       "      <td>2.0</td>\n",
       "    </tr>\n",
       "    <tr>\n",
       "      <th>10779</th>\n",
       "      <td>10779</td>\n",
       "      <td>1 Series</td>\n",
       "      <td>2014</td>\n",
       "      <td>9930</td>\n",
       "      <td>Automatic</td>\n",
       "      <td>45000</td>\n",
       "      <td>Diesel</td>\n",
       "      <td>30</td>\n",
       "      <td>64.2</td>\n",
       "      <td>2.0</td>\n",
       "    </tr>\n",
       "    <tr>\n",
       "      <th>10780</th>\n",
       "      <td>10780</td>\n",
       "      <td>X1</td>\n",
       "      <td>2017</td>\n",
       "      <td>15981</td>\n",
       "      <td>Automatic</td>\n",
       "      <td>59432</td>\n",
       "      <td>Diesel</td>\n",
       "      <td>125</td>\n",
       "      <td>57.6</td>\n",
       "      <td>2.0</td>\n",
       "    </tr>\n",
       "  </tbody>\n",
       "</table>\n",
       "<p>10781 rows × 10 columns</p>\n",
       "</div>"
      ]
     },
     "metadata": {},
     "execution_count": 356
    }
   ],
   "metadata": {}
  },
  {
   "cell_type": "markdown",
   "source": [
    "## Target Selection"
   ],
   "metadata": {}
  },
  {
   "cell_type": "code",
   "execution_count": 357,
   "source": [
    "target = bmw[[\"price\"]]"
   ],
   "outputs": [],
   "metadata": {}
  },
  {
   "cell_type": "code",
   "execution_count": 358,
   "source": [
    "target.head()"
   ],
   "outputs": [
    {
     "output_type": "execute_result",
     "data": {
      "text/plain": [
       "    price\n",
       "id       \n",
       "0   11200\n",
       "1   27000\n",
       "2   16000\n",
       "3   12750\n",
       "4   14500"
      ],
      "text/html": [
       "<div>\n",
       "<style scoped>\n",
       "    .dataframe tbody tr th:only-of-type {\n",
       "        vertical-align: middle;\n",
       "    }\n",
       "\n",
       "    .dataframe tbody tr th {\n",
       "        vertical-align: top;\n",
       "    }\n",
       "\n",
       "    .dataframe thead th {\n",
       "        text-align: right;\n",
       "    }\n",
       "</style>\n",
       "<table border=\"1\" class=\"dataframe\">\n",
       "  <thead>\n",
       "    <tr style=\"text-align: right;\">\n",
       "      <th></th>\n",
       "      <th>price</th>\n",
       "    </tr>\n",
       "    <tr>\n",
       "      <th>id</th>\n",
       "      <th></th>\n",
       "    </tr>\n",
       "  </thead>\n",
       "  <tbody>\n",
       "    <tr>\n",
       "      <th>0</th>\n",
       "      <td>11200</td>\n",
       "    </tr>\n",
       "    <tr>\n",
       "      <th>1</th>\n",
       "      <td>27000</td>\n",
       "    </tr>\n",
       "    <tr>\n",
       "      <th>2</th>\n",
       "      <td>16000</td>\n",
       "    </tr>\n",
       "    <tr>\n",
       "      <th>3</th>\n",
       "      <td>12750</td>\n",
       "    </tr>\n",
       "    <tr>\n",
       "      <th>4</th>\n",
       "      <td>14500</td>\n",
       "    </tr>\n",
       "  </tbody>\n",
       "</table>\n",
       "</div>"
      ]
     },
     "metadata": {},
     "execution_count": 358
    }
   ],
   "metadata": {}
  },
  {
   "cell_type": "code",
   "execution_count": 359,
   "source": [
    "target.info()"
   ],
   "outputs": [
    {
     "output_type": "stream",
     "name": "stdout",
     "text": [
      "<class 'pandas.core.frame.DataFrame'>\n",
      "RangeIndex: 10781 entries, 0 to 10780\n",
      "Data columns (total 1 columns):\n",
      " #   Column  Non-Null Count  Dtype\n",
      "---  ------  --------------  -----\n",
      " 0   price   10781 non-null  int64\n",
      "dtypes: int64(1)\n",
      "memory usage: 84.4 KB\n"
     ]
    }
   ],
   "metadata": {}
  },
  {
   "cell_type": "markdown",
   "source": [
    "## Feature Selection"
   ],
   "metadata": {}
  },
  {
   "cell_type": "code",
   "execution_count": 360,
   "source": [
    "fea_col = [\"model\", \"transmission\", \"fuelType\", \"mileage\", \"tax\"]\n",
    "\n",
    "features = bmw[fea_col]"
   ],
   "outputs": [],
   "metadata": {}
  },
  {
   "cell_type": "code",
   "execution_count": 361,
   "source": [
    "features.head()"
   ],
   "outputs": [
    {
     "output_type": "execute_result",
     "data": {
      "text/plain": [
       "        model transmission fuelType  mileage  tax\n",
       "id                                               \n",
       "0    5 Series    Automatic   Diesel    67068  125\n",
       "1    6 Series    Automatic   Petrol    14827  145\n",
       "2    5 Series    Automatic   Diesel    62794  160\n",
       "3    1 Series    Automatic   Diesel    26676  145\n",
       "4    7 Series    Automatic   Diesel    39554  160"
      ],
      "text/html": [
       "<div>\n",
       "<style scoped>\n",
       "    .dataframe tbody tr th:only-of-type {\n",
       "        vertical-align: middle;\n",
       "    }\n",
       "\n",
       "    .dataframe tbody tr th {\n",
       "        vertical-align: top;\n",
       "    }\n",
       "\n",
       "    .dataframe thead th {\n",
       "        text-align: right;\n",
       "    }\n",
       "</style>\n",
       "<table border=\"1\" class=\"dataframe\">\n",
       "  <thead>\n",
       "    <tr style=\"text-align: right;\">\n",
       "      <th></th>\n",
       "      <th>model</th>\n",
       "      <th>transmission</th>\n",
       "      <th>fuelType</th>\n",
       "      <th>mileage</th>\n",
       "      <th>tax</th>\n",
       "    </tr>\n",
       "    <tr>\n",
       "      <th>id</th>\n",
       "      <th></th>\n",
       "      <th></th>\n",
       "      <th></th>\n",
       "      <th></th>\n",
       "      <th></th>\n",
       "    </tr>\n",
       "  </thead>\n",
       "  <tbody>\n",
       "    <tr>\n",
       "      <th>0</th>\n",
       "      <td>5 Series</td>\n",
       "      <td>Automatic</td>\n",
       "      <td>Diesel</td>\n",
       "      <td>67068</td>\n",
       "      <td>125</td>\n",
       "    </tr>\n",
       "    <tr>\n",
       "      <th>1</th>\n",
       "      <td>6 Series</td>\n",
       "      <td>Automatic</td>\n",
       "      <td>Petrol</td>\n",
       "      <td>14827</td>\n",
       "      <td>145</td>\n",
       "    </tr>\n",
       "    <tr>\n",
       "      <th>2</th>\n",
       "      <td>5 Series</td>\n",
       "      <td>Automatic</td>\n",
       "      <td>Diesel</td>\n",
       "      <td>62794</td>\n",
       "      <td>160</td>\n",
       "    </tr>\n",
       "    <tr>\n",
       "      <th>3</th>\n",
       "      <td>1 Series</td>\n",
       "      <td>Automatic</td>\n",
       "      <td>Diesel</td>\n",
       "      <td>26676</td>\n",
       "      <td>145</td>\n",
       "    </tr>\n",
       "    <tr>\n",
       "      <th>4</th>\n",
       "      <td>7 Series</td>\n",
       "      <td>Automatic</td>\n",
       "      <td>Diesel</td>\n",
       "      <td>39554</td>\n",
       "      <td>160</td>\n",
       "    </tr>\n",
       "  </tbody>\n",
       "</table>\n",
       "</div>"
      ]
     },
     "metadata": {},
     "execution_count": 361
    }
   ],
   "metadata": {}
  },
  {
   "cell_type": "code",
   "execution_count": 362,
   "source": [
    "features.info()"
   ],
   "outputs": [
    {
     "output_type": "stream",
     "name": "stdout",
     "text": [
      "<class 'pandas.core.frame.DataFrame'>\n",
      "RangeIndex: 10781 entries, 0 to 10780\n",
      "Data columns (total 5 columns):\n",
      " #   Column        Non-Null Count  Dtype \n",
      "---  ------        --------------  ----- \n",
      " 0   model         10781 non-null  object\n",
      " 1   transmission  10781 non-null  object\n",
      " 2   fuelType      10781 non-null  object\n",
      " 3   mileage       10781 non-null  int64 \n",
      " 4   tax           10781 non-null  int64 \n",
      "dtypes: int64(2), object(3)\n",
      "memory usage: 421.3+ KB\n"
     ]
    }
   ],
   "metadata": {}
  },
  {
   "cell_type": "code",
   "execution_count": 363,
   "source": [
    "for col in [\"model\", \"transmission\", \"fuelType\"]:\n",
    "    features[col] = features[col].astype(\"category\")\n",
    "\n",
    "# for col in [\"mileage\", \"tax\"]:\n",
    "#     bmw_features[col] = bmw_features[col].astype(\"float\")"
   ],
   "outputs": [
    {
     "output_type": "stream",
     "name": "stderr",
     "text": [
      "/Users/royceto/anaconda3/envs/myenv/lib/python3.7/site-packages/ipykernel_launcher.py:2: SettingWithCopyWarning: \n",
      "A value is trying to be set on a copy of a slice from a DataFrame.\n",
      "Try using .loc[row_indexer,col_indexer] = value instead\n",
      "\n",
      "See the caveats in the documentation: https://pandas.pydata.org/pandas-docs/stable/user_guide/indexing.html#returning-a-view-versus-a-copy\n",
      "  \n"
     ]
    }
   ],
   "metadata": {}
  },
  {
   "cell_type": "code",
   "execution_count": 364,
   "source": [
    "features.info()"
   ],
   "outputs": [
    {
     "output_type": "stream",
     "name": "stdout",
     "text": [
      "<class 'pandas.core.frame.DataFrame'>\n",
      "RangeIndex: 10781 entries, 0 to 10780\n",
      "Data columns (total 5 columns):\n",
      " #   Column        Non-Null Count  Dtype   \n",
      "---  ------        --------------  -----   \n",
      " 0   model         10781 non-null  category\n",
      " 1   transmission  10781 non-null  category\n",
      " 2   fuelType      10781 non-null  category\n",
      " 3   mileage       10781 non-null  int64   \n",
      " 4   tax           10781 non-null  int64   \n",
      "dtypes: category(3), int64(2)\n",
      "memory usage: 201.2 KB\n"
     ]
    }
   ],
   "metadata": {}
  },
  {
   "cell_type": "markdown",
   "source": [
    "## Spliting Data"
   ],
   "metadata": {}
  },
  {
   "cell_type": "code",
   "execution_count": 365,
   "source": [
    "from sklearn.model_selection import train_test_split"
   ],
   "outputs": [],
   "metadata": {}
  },
  {
   "cell_type": "code",
   "execution_count": 366,
   "source": [
    "# split into 3 datasets - train, validation and test\n",
    "\n",
    "# tranvail (train + validation) & test dataset\n",
    "# may or may not need stratify depend on labels\n",
    "X_trainval, X_test, y_trainval, y_test = train_test_split(features, target, random_state=42)\n",
    "\n",
    "X_train, X_valid, y_train, y_valid = train_test_split(X_trainval, y_trainval, random_state=42)"
   ],
   "outputs": [],
   "metadata": {}
  },
  {
   "cell_type": "markdown",
   "source": [
    "## Preprocessing and Pipeline"
   ],
   "metadata": {}
  },
  {
   "cell_type": "code",
   "execution_count": 367,
   "source": [
    "from sklearn.pipeline import Pipeline\n",
    "from sklearn.impute import SimpleImputer\n",
    "from sklearn.preprocessing import OneHotEncoder\n",
    "from sklearn.preprocessing import StandardScaler\n",
    "from sklearn.compose import ColumnTransformer\n",
    "from sklearn.linear_model import LinearRegression"
   ],
   "outputs": [],
   "metadata": {}
  },
  {
   "cell_type": "code",
   "execution_count": 368,
   "source": [
    "categorical = [\"model\",\t\"transmission\",\t\"fuelType\"]\n",
    "numerical = [\"mileage\",\t\"tax\"]\n",
    "\n",
    "#pipelines to handle categorical and numeric data\n",
    "cat_pipe = Pipeline([\n",
    "    (\"imputer\", SimpleImputer(strategy=\"most_frequent\")),\n",
    "    (\"encoder\", OneHotEncoder(handle_unknown=\"ignore\", sparse=False))\n",
    "])\n",
    "\n",
    "num_pipe = Pipeline([\n",
    "    (\"imputer\", SimpleImputer(strategy=\"median\")),\n",
    "    (\"scaler\", StandardScaler())\n",
    "])\n",
    "\n",
    "#gluing back together - transform and concatenate features\n",
    "preprocessor = ColumnTransformer(\n",
    "    transformers=[\n",
    "        (\"cat_pipe\", cat_pipe, categorical),\n",
    "        (\"num_pipe\", num_pipe, numerical)\n",
    "    ]\n",
    ")\n",
    "\n",
    "#combine preprocessing and classifier together\n",
    "pipe = Pipeline(\n",
    "    steps=[\n",
    "        (\"preprocessor\", preprocessor),\n",
    "        (\"regression\", LinearRegression())\n",
    "    ]\n",
    ")\n",
    "\n",
    "# Just in case, accessing steps in pipeline\n",
    "# pipe.steps[0][1]"
   ],
   "outputs": [],
   "metadata": {}
  },
  {
   "cell_type": "markdown",
   "source": [
    "## Grid Search and CV"
   ],
   "metadata": {}
  },
  {
   "cell_type": "code",
   "execution_count": 369,
   "source": [
    "from sklearn.model_selection import GridSearchCV\n",
    "from sklearn.linear_model import Ridge\n",
    "from sklearn.linear_model import Lasso\n",
    "from sklearn.neighbors import KNeighborsRegressor"
   ],
   "outputs": [],
   "metadata": {}
  },
  {
   "cell_type": "code",
   "execution_count": 370,
   "source": [
    "# regression and parameters\n",
    "\n",
    "param_grid = [\n",
    "    #Linear regression\n",
    "    {\n",
    "        \"regression\":[LinearRegression()],\n",
    "        \"preprocessor\":[preprocessor]\n",
    "    },\n",
    "    #ridge\n",
    "    {\n",
    "        \"regression\":[Ridge()],\n",
    "        \"preprocessor\":[preprocessor],\n",
    "        \"regression__alpha\":[0.01, 0.1, 1, 10, 100,1000]\n",
    "    },\n",
    "    #lasso - (runtime very taxing)\n",
    "    {\n",
    "        \"regression\":[Lasso(max_iter=100000)],\n",
    "        \"preprocessor\":[preprocessor],\n",
    "        \"regression__alpha\":[0.01, 0.1, 1, 10, 100,1000]\n",
    "    },\n",
    "    #knn-regressor\n",
    "    {\n",
    "        \"regression\":[KNeighborsRegressor()],\n",
    "        \"preprocessor\":[preprocessor],\n",
    "        \"regression__n_neighbors\":[1,2,3,4,5,6,7,8,9,10]\n",
    "    }\n",
    "]"
   ],
   "outputs": [],
   "metadata": {}
  },
  {
   "cell_type": "code",
   "execution_count": 371,
   "source": [
    "grid = GridSearchCV(pipe, param_grid=param_grid, cv=5)\n",
    "grid.fit(X_trainval, np.ravel(y_trainval))"
   ],
   "outputs": [
    {
     "output_type": "execute_result",
     "data": {
      "text/plain": [
       "GridSearchCV(cv=5,\n",
       "             estimator=Pipeline(steps=[('preprocessor',\n",
       "                                        ColumnTransformer(transformers=[('cat_pipe',\n",
       "                                                                         Pipeline(steps=[('imputer',\n",
       "                                                                                          SimpleImputer(strategy='most_frequent')),\n",
       "                                                                                         ('encoder',\n",
       "                                                                                          OneHotEncoder(handle_unknown='ignore',\n",
       "                                                                                                        sparse=False))]),\n",
       "                                                                         ['model',\n",
       "                                                                          'transmission',\n",
       "                                                                          'fuelType']),\n",
       "                                                                        ('num_pipe',\n",
       "                                                                         Pipeline(steps=[('imputer',\n",
       "                                                                                          SimpleImputer(strategy='median')),\n",
       "                                                                                         ('...\n",
       "                                                                                             SimpleImputer(strategy='most_frequent')),\n",
       "                                                                                            ('encoder',\n",
       "                                                                                             OneHotEncoder(handle_unknown='ignore',\n",
       "                                                                                                           sparse=False))]),\n",
       "                                                                            ['model',\n",
       "                                                                             'transmission',\n",
       "                                                                             'fuelType']),\n",
       "                                                                           ('num_pipe',\n",
       "                                                                            Pipeline(steps=[('imputer',\n",
       "                                                                                             SimpleImputer(strategy='median')),\n",
       "                                                                                            ('scaler',\n",
       "                                                                                             StandardScaler())]),\n",
       "                                                                            ['mileage',\n",
       "                                                                             'tax'])])],\n",
       "                          'regression': [KNeighborsRegressor()],\n",
       "                          'regression__n_neighbors': [1, 2, 3, 4, 5, 6, 7, 8, 9,\n",
       "                                                      10]}])"
      ]
     },
     "metadata": {},
     "execution_count": 371
    }
   ],
   "metadata": {}
  },
  {
   "cell_type": "code",
   "execution_count": 372,
   "source": [
    "print(\n",
    "    \"Test-set score {:5f}\".format(grid.score(X_test, y_test))\n",
    ")\n",
    "\n",
    "print(\n",
    "    \"Best cross-validation score {:5f}\".format(grid.best_score_)\n",
    ")\n",
    "print(\n",
    "    \"Best params: {}\".format(grid.best_params_)\n",
    ")\n",
    "print(\n",
    "    \"Best best_estimator_{}\".format(grid.best_estimator_)\n",
    ")"
   ],
   "outputs": [
    {
     "output_type": "stream",
     "name": "stdout",
     "text": [
      "Test-set score 0.865680\n",
      "Best cross-validation score 0.856181\n",
      "Best params: {'preprocessor': ColumnTransformer(transformers=[('cat_pipe',\n",
      "                                 Pipeline(steps=[('imputer',\n",
      "                                                  SimpleImputer(strategy='most_frequent')),\n",
      "                                                 ('encoder',\n",
      "                                                  OneHotEncoder(handle_unknown='ignore',\n",
      "                                                                sparse=False))]),\n",
      "                                 ['model', 'transmission', 'fuelType']),\n",
      "                                ('num_pipe',\n",
      "                                 Pipeline(steps=[('imputer',\n",
      "                                                  SimpleImputer(strategy='median')),\n",
      "                                                 ('scaler', StandardScaler())]),\n",
      "                                 ['mileage', 'tax'])]), 'regression': KNeighborsRegressor(), 'regression__n_neighbors': 5}\n",
      "Best best_estimator_Pipeline(steps=[('preprocessor',\n",
      "                 ColumnTransformer(transformers=[('cat_pipe',\n",
      "                                                  Pipeline(steps=[('imputer',\n",
      "                                                                   SimpleImputer(strategy='most_frequent')),\n",
      "                                                                  ('encoder',\n",
      "                                                                   OneHotEncoder(handle_unknown='ignore',\n",
      "                                                                                 sparse=False))]),\n",
      "                                                  ['model', 'transmission',\n",
      "                                                   'fuelType']),\n",
      "                                                 ('num_pipe',\n",
      "                                                  Pipeline(steps=[('imputer',\n",
      "                                                                   SimpleImputer(strategy='median')),\n",
      "                                                                  ('scaler',\n",
      "                                                                   StandardScaler())]),\n",
      "                                                  ['mileage', 'tax'])])),\n",
      "                ('regression', KNeighborsRegressor())])\n"
     ]
    }
   ],
   "metadata": {}
  },
  {
   "cell_type": "markdown",
   "source": [
    "## Prediction"
   ],
   "metadata": {}
  },
  {
   "cell_type": "code",
   "execution_count": 373,
   "source": [
    "train_features_trans = preprocessor.fit_transform(features)\n",
    "test_features_trans = preprocessor.transform(X_test)\n"
   ],
   "outputs": [],
   "metadata": {}
  },
  {
   "cell_type": "code",
   "execution_count": 374,
   "source": [
    "X_test1 = X_test.reset_index()\n",
    "X_test_id = X_test1.id"
   ],
   "outputs": [],
   "metadata": {}
  },
  {
   "cell_type": "code",
   "execution_count": 375,
   "source": [
    "reg = KNeighborsRegressor(n_neighbors=5)\n",
    "reg.fit(train_features_trans, np.ravel(target))"
   ],
   "outputs": [
    {
     "output_type": "execute_result",
     "data": {
      "text/plain": [
       "KNeighborsRegressor()"
      ]
     },
     "metadata": {},
     "execution_count": 375
    }
   ],
   "metadata": {}
  },
  {
   "cell_type": "code",
   "execution_count": 376,
   "source": [
    "submission_pred = reg.predict(test_features_trans)"
   ],
   "outputs": [],
   "metadata": {}
  },
  {
   "cell_type": "code",
   "execution_count": 377,
   "source": [
    "df_submit = pd.DataFrame(\n",
    "    {\n",
    "    \"id\":X_test_id.values,\n",
    "    \"price_pred\":submission_pred\n",
    "    }\n",
    ")"
   ],
   "outputs": [],
   "metadata": {}
  },
  {
   "cell_type": "code",
   "execution_count": 378,
   "source": [
    "# df_submit"
   ],
   "outputs": [],
   "metadata": {}
  },
  {
   "cell_type": "code",
   "execution_count": 379,
   "source": [
    "merge1 = pd.merge(X_test1, df_submit, how=\"inner\", on=\"id\")"
   ],
   "outputs": [],
   "metadata": {}
  },
  {
   "cell_type": "code",
   "execution_count": 380,
   "source": [
    "y_test1 = y_test.reset_index()"
   ],
   "outputs": [],
   "metadata": {}
  },
  {
   "cell_type": "code",
   "execution_count": 384,
   "source": [
    "bmw_price_pred_actual = pd.merge(merge1, y_test1, how=\"inner\", on=\"id\")\n",
    "bmw_price_pred_actual.head()"
   ],
   "outputs": [
    {
     "output_type": "execute_result",
     "data": {
      "text/plain": [
       "     id      model transmission fuelType  mileage  tax  price_pred  price\n",
       "0  8728   1 Series       Manual   Diesel    36469  150     12974.4  15300\n",
       "1   761   5 Series    Semi-Auto   Diesel    51565  160     18755.2  15495\n",
       "2  7209         X3    Semi-Auto   Diesel     8988  150     33256.0  39875\n",
       "3  6685   2 Series    Automatic   Petrol     5054  145     25791.2  21730\n",
       "4  8548   2 Series       Manual   Diesel    13369  145     16177.4  13799"
      ],
      "text/html": [
       "<div>\n",
       "<style scoped>\n",
       "    .dataframe tbody tr th:only-of-type {\n",
       "        vertical-align: middle;\n",
       "    }\n",
       "\n",
       "    .dataframe tbody tr th {\n",
       "        vertical-align: top;\n",
       "    }\n",
       "\n",
       "    .dataframe thead th {\n",
       "        text-align: right;\n",
       "    }\n",
       "</style>\n",
       "<table border=\"1\" class=\"dataframe\">\n",
       "  <thead>\n",
       "    <tr style=\"text-align: right;\">\n",
       "      <th></th>\n",
       "      <th>id</th>\n",
       "      <th>model</th>\n",
       "      <th>transmission</th>\n",
       "      <th>fuelType</th>\n",
       "      <th>mileage</th>\n",
       "      <th>tax</th>\n",
       "      <th>price_pred</th>\n",
       "      <th>price</th>\n",
       "    </tr>\n",
       "  </thead>\n",
       "  <tbody>\n",
       "    <tr>\n",
       "      <th>0</th>\n",
       "      <td>8728</td>\n",
       "      <td>1 Series</td>\n",
       "      <td>Manual</td>\n",
       "      <td>Diesel</td>\n",
       "      <td>36469</td>\n",
       "      <td>150</td>\n",
       "      <td>12974.4</td>\n",
       "      <td>15300</td>\n",
       "    </tr>\n",
       "    <tr>\n",
       "      <th>1</th>\n",
       "      <td>761</td>\n",
       "      <td>5 Series</td>\n",
       "      <td>Semi-Auto</td>\n",
       "      <td>Diesel</td>\n",
       "      <td>51565</td>\n",
       "      <td>160</td>\n",
       "      <td>18755.2</td>\n",
       "      <td>15495</td>\n",
       "    </tr>\n",
       "    <tr>\n",
       "      <th>2</th>\n",
       "      <td>7209</td>\n",
       "      <td>X3</td>\n",
       "      <td>Semi-Auto</td>\n",
       "      <td>Diesel</td>\n",
       "      <td>8988</td>\n",
       "      <td>150</td>\n",
       "      <td>33256.0</td>\n",
       "      <td>39875</td>\n",
       "    </tr>\n",
       "    <tr>\n",
       "      <th>3</th>\n",
       "      <td>6685</td>\n",
       "      <td>2 Series</td>\n",
       "      <td>Automatic</td>\n",
       "      <td>Petrol</td>\n",
       "      <td>5054</td>\n",
       "      <td>145</td>\n",
       "      <td>25791.2</td>\n",
       "      <td>21730</td>\n",
       "    </tr>\n",
       "    <tr>\n",
       "      <th>4</th>\n",
       "      <td>8548</td>\n",
       "      <td>2 Series</td>\n",
       "      <td>Manual</td>\n",
       "      <td>Diesel</td>\n",
       "      <td>13369</td>\n",
       "      <td>145</td>\n",
       "      <td>16177.4</td>\n",
       "      <td>13799</td>\n",
       "    </tr>\n",
       "  </tbody>\n",
       "</table>\n",
       "</div>"
      ]
     },
     "metadata": {},
     "execution_count": 384
    }
   ],
   "metadata": {}
  },
  {
   "cell_type": "code",
   "execution_count": 422,
   "source": [
    "plt.plot(bmw_price_pred_actual.price_pred, label=\"ml\", alpha=0.2)\n",
    "plt.plot(bmw_price_pred_actual.price, label=\"actual\", alpha=0.4)\n",
    "plt.legend()"
   ],
   "outputs": [
    {
     "output_type": "execute_result",
     "data": {
      "text/plain": [
       "<matplotlib.legend.Legend at 0x7fd582ac6950>"
      ]
     },
     "metadata": {},
     "execution_count": 422
    },
    {
     "output_type": "display_data",
     "data": {
      "text/plain": [
       "<Figure size 432x288 with 1 Axes>"
      ],
      "image/png": "[encoded data removed]"
     },
     "metadata": {
      "needs_background": "light"
     }
    }
   ],
   "metadata": {}
  },
  {
   "cell_type": "code",
   "execution_count": 402,
   "source": [
    "bmw_price_pred_actual[\"price_dff\"] =  bmw_price_pred_actual[\"price_pred\"] - bmw_price_pred_actual[\"price\"]"
   ],
   "outputs": [],
   "metadata": {}
  },
  {
   "cell_type": "code",
   "execution_count": 412,
   "source": [
    "bmw_price_pred_actual[\"price_per_change\"] = (bmw_price_pred_actual[\"price_dff\"] / bmw_price_pred_actual[\"price\"])*100"
   ],
   "outputs": [],
   "metadata": {}
  },
  {
   "cell_type": "code",
   "execution_count": 413,
   "source": [
    "bmw_price_pred_actual"
   ],
   "outputs": [
    {
     "output_type": "execute_result",
     "data": {
      "text/plain": [
       "        id      model transmission fuelType  mileage  tax  price_pred  price  \\\n",
       "0     8728   1 Series       Manual   Diesel    36469  150     12974.4  15300   \n",
       "1      761   5 Series    Semi-Auto   Diesel    51565  160     18755.2  15495   \n",
       "2     7209         X3    Semi-Auto   Diesel     8988  150     33256.0  39875   \n",
       "3     6685   2 Series    Automatic   Petrol     5054  145     25791.2  21730   \n",
       "4     8548   2 Series       Manual   Diesel    13369  145     16177.4  13799   \n",
       "...    ...        ...          ...      ...      ...  ...         ...    ...   \n",
       "2691  9825   4 Series    Automatic   Petrol     3250  145     29043.0  25500   \n",
       "2692  3522   7 Series    Semi-Auto   Diesel      706  145     52190.4  52700   \n",
       "2693  9757   3 Series    Automatic   Hybrid    64000    0     14863.4  15795   \n",
       "2694  6100   4 Series    Automatic   Diesel     6000  145     30041.0  29840   \n",
       "2695  3946   4 Series    Semi-Auto   Petrol     1000  145     27782.6  34980   \n",
       "\n",
       "      price_dff  price_per_change  \n",
       "0       -2325.6        -15.200000  \n",
       "1        3260.2         21.040336  \n",
       "2       -6619.0        -16.599373  \n",
       "3        4061.2         18.689370  \n",
       "4        2378.4         17.236032  \n",
       "...         ...               ...  \n",
       "2691     3543.0         13.894118  \n",
       "2692     -509.6         -0.966983  \n",
       "2693     -931.6         -5.898069  \n",
       "2694      201.0          0.673592  \n",
       "2695    -7197.4        -20.575758  \n",
       "\n",
       "[2696 rows x 10 columns]"
      ],
      "text/html": [
       "<div>\n",
       "<style scoped>\n",
       "    .dataframe tbody tr th:only-of-type {\n",
       "        vertical-align: middle;\n",
       "    }\n",
       "\n",
       "    .dataframe tbody tr th {\n",
       "        vertical-align: top;\n",
       "    }\n",
       "\n",
       "    .dataframe thead th {\n",
       "        text-align: right;\n",
       "    }\n",
       "</style>\n",
       "<table border=\"1\" class=\"dataframe\">\n",
       "  <thead>\n",
       "    <tr style=\"text-align: right;\">\n",
       "      <th></th>\n",
       "      <th>id</th>\n",
       "      <th>model</th>\n",
       "      <th>transmission</th>\n",
       "      <th>fuelType</th>\n",
       "      <th>mileage</th>\n",
       "      <th>tax</th>\n",
       "      <th>price_pred</th>\n",
       "      <th>price</th>\n",
       "      <th>price_dff</th>\n",
       "      <th>price_per_change</th>\n",
       "    </tr>\n",
       "  </thead>\n",
       "  <tbody>\n",
       "    <tr>\n",
       "      <th>0</th>\n",
       "      <td>8728</td>\n",
       "      <td>1 Series</td>\n",
       "      <td>Manual</td>\n",
       "      <td>Diesel</td>\n",
       "      <td>36469</td>\n",
       "      <td>150</td>\n",
       "      <td>12974.4</td>\n",
       "      <td>15300</td>\n",
       "      <td>-2325.6</td>\n",
       "      <td>-15.200000</td>\n",
       "    </tr>\n",
       "    <tr>\n",
       "      <th>1</th>\n",
       "      <td>761</td>\n",
       "      <td>5 Series</td>\n",
       "      <td>Semi-Auto</td>\n",
       "      <td>Diesel</td>\n",
       "      <td>51565</td>\n",
       "      <td>160</td>\n",
       "      <td>18755.2</td>\n",
       "      <td>15495</td>\n",
       "      <td>3260.2</td>\n",
       "      <td>21.040336</td>\n",
       "    </tr>\n",
       "    <tr>\n",
       "      <th>2</th>\n",
       "      <td>7209</td>\n",
       "      <td>X3</td>\n",
       "      <td>Semi-Auto</td>\n",
       "      <td>Diesel</td>\n",
       "      <td>8988</td>\n",
       "      <td>150</td>\n",
       "      <td>33256.0</td>\n",
       "      <td>39875</td>\n",
       "      <td>-6619.0</td>\n",
       "      <td>-16.599373</td>\n",
       "    </tr>\n",
       "    <tr>\n",
       "      <th>3</th>\n",
       "      <td>6685</td>\n",
       "      <td>2 Series</td>\n",
       "      <td>Automatic</td>\n",
       "      <td>Petrol</td>\n",
       "      <td>5054</td>\n",
       "      <td>145</td>\n",
       "      <td>25791.2</td>\n",
       "      <td>21730</td>\n",
       "      <td>4061.2</td>\n",
       "      <td>18.689370</td>\n",
       "    </tr>\n",
       "    <tr>\n",
       "      <th>4</th>\n",
       "      <td>8548</td>\n",
       "      <td>2 Series</td>\n",
       "      <td>Manual</td>\n",
       "      <td>Diesel</td>\n",
       "      <td>13369</td>\n",
       "      <td>145</td>\n",
       "      <td>16177.4</td>\n",
       "      <td>13799</td>\n",
       "      <td>2378.4</td>\n",
       "      <td>17.236032</td>\n",
       "    </tr>\n",
       "    <tr>\n",
       "      <th>...</th>\n",
       "      <td>...</td>\n",
       "      <td>...</td>\n",
       "      <td>...</td>\n",
       "      <td>...</td>\n",
       "      <td>...</td>\n",
       "      <td>...</td>\n",
       "      <td>...</td>\n",
       "      <td>...</td>\n",
       "      <td>...</td>\n",
       "      <td>...</td>\n",
       "    </tr>\n",
       "    <tr>\n",
       "      <th>2691</th>\n",
       "      <td>9825</td>\n",
       "      <td>4 Series</td>\n",
       "      <td>Automatic</td>\n",
       "      <td>Petrol</td>\n",
       "      <td>3250</td>\n",
       "      <td>145</td>\n",
       "      <td>29043.0</td>\n",
       "      <td>25500</td>\n",
       "      <td>3543.0</td>\n",
       "      <td>13.894118</td>\n",
       "    </tr>\n",
       "    <tr>\n",
       "      <th>2692</th>\n",
       "      <td>3522</td>\n",
       "      <td>7 Series</td>\n",
       "      <td>Semi-Auto</td>\n",
       "      <td>Diesel</td>\n",
       "      <td>706</td>\n",
       "      <td>145</td>\n",
       "      <td>52190.4</td>\n",
       "      <td>52700</td>\n",
       "      <td>-509.6</td>\n",
       "      <td>-0.966983</td>\n",
       "    </tr>\n",
       "    <tr>\n",
       "      <th>2693</th>\n",
       "      <td>9757</td>\n",
       "      <td>3 Series</td>\n",
       "      <td>Automatic</td>\n",
       "      <td>Hybrid</td>\n",
       "      <td>64000</td>\n",
       "      <td>0</td>\n",
       "      <td>14863.4</td>\n",
       "      <td>15795</td>\n",
       "      <td>-931.6</td>\n",
       "      <td>-5.898069</td>\n",
       "    </tr>\n",
       "    <tr>\n",
       "      <th>2694</th>\n",
       "      <td>6100</td>\n",
       "      <td>4 Series</td>\n",
       "      <td>Automatic</td>\n",
       "      <td>Diesel</td>\n",
       "      <td>6000</td>\n",
       "      <td>145</td>\n",
       "      <td>30041.0</td>\n",
       "      <td>29840</td>\n",
       "      <td>201.0</td>\n",
       "      <td>0.673592</td>\n",
       "    </tr>\n",
       "    <tr>\n",
       "      <th>2695</th>\n",
       "      <td>3946</td>\n",
       "      <td>4 Series</td>\n",
       "      <td>Semi-Auto</td>\n",
       "      <td>Petrol</td>\n",
       "      <td>1000</td>\n",
       "      <td>145</td>\n",
       "      <td>27782.6</td>\n",
       "      <td>34980</td>\n",
       "      <td>-7197.4</td>\n",
       "      <td>-20.575758</td>\n",
       "    </tr>\n",
       "  </tbody>\n",
       "</table>\n",
       "<p>2696 rows × 10 columns</p>\n",
       "</div>"
      ]
     },
     "metadata": {},
     "execution_count": 413
    }
   ],
   "metadata": {}
  },
  {
   "cell_type": "code",
   "execution_count": 415,
   "source": [
    "bmw_price_pred_actual[\"price_per_change\"].describe()"
   ],
   "outputs": [
    {
     "output_type": "execute_result",
     "data": {
      "text/plain": [
       "count    2696.000000\n",
       "mean        2.725352\n",
       "std        17.874319\n",
       "min       -44.787994\n",
       "25%        -5.876244\n",
       "50%         0.796288\n",
       "75%         8.086049\n",
       "max       353.666667\n",
       "Name: price_per_change, dtype: float64"
      ]
     },
     "metadata": {},
     "execution_count": 415
    }
   ],
   "metadata": {}
  },
  {
   "cell_type": "code",
   "execution_count": 429,
   "source": [
    "plt.hist(bmw_price_pred_actual[\"price_per_change\"], bins=200)"
   ],
   "outputs": [
    {
     "output_type": "execute_result",
     "data": {
      "text/plain": [
       "(array([  1.,   0.,   0.,   0.,   2.,   4.,   2.,   6.,   4.,  14.,  19.,\n",
       "         22.,  38.,  36.,  48.,  73.,  85.,  95., 144., 151., 182., 236.,\n",
       "        211., 218., 179., 165., 143., 106.,  79.,  78.,  60.,  45.,  33.,\n",
       "         38.,  21.,  22.,  23.,  14.,  12.,   8.,   3.,   5.,  12.,   5.,\n",
       "          9.,   4.,   6.,   3.,   2.,   0.,   4.,   4.,   3.,   1.,   1.,\n",
       "          1.,   2.,   1.,   0.,   0.,   0.,   0.,   0.,   0.,   0.,   0.,\n",
       "          0.,   0.,   1.,   1.,   0.,   0.,   0.,   0.,   1.,   1.,   1.,\n",
       "          0.,   0.,   0.,   1.,   0.,   0.,   0.,   0.,   0.,   0.,   0.,\n",
       "          0.,   0.,   1.,   1.,   0.,   0.,   0.,   0.,   0.,   1.,   0.,\n",
       "          0.,   0.,   0.,   1.,   0.,   0.,   0.,   0.,   0.,   0.,   0.,\n",
       "          0.,   0.,   0.,   0.,   0.,   0.,   0.,   0.,   0.,   0.,   0.,\n",
       "          0.,   0.,   0.,   0.,   1.,   0.,   0.,   0.,   0.,   0.,   0.,\n",
       "          0.,   0.,   0.,   0.,   0.,   0.,   0.,   0.,   0.,   0.,   0.,\n",
       "          0.,   0.,   0.,   0.,   0.,   0.,   0.,   0.,   0.,   0.,   0.,\n",
       "          0.,   0.,   0.,   1.,   0.,   0.,   0.,   0.,   0.,   0.,   0.,\n",
       "          0.,   0.,   0.,   0.,   0.,   0.,   0.,   0.,   0.,   0.,   0.,\n",
       "          0.,   0.,   0.,   0.,   0.,   0.,   0.,   0.,   0.,   0.,   0.,\n",
       "          0.,   0.,   0.,   0.,   0.,   0.,   0.,   0.,   0.,   0.,   0.,\n",
       "          0.,   1.]),\n",
       " array([-44.787994  , -42.79572069, -40.80344739, -38.81117409,\n",
       "        -36.81890078, -34.82662748, -32.83435418, -30.84208087,\n",
       "        -28.84980757, -26.85753427, -24.86526096, -22.87298766,\n",
       "        -20.88071436, -18.88844105, -16.89616775, -14.90389445,\n",
       "        -12.91162114, -10.91934784,  -8.92707454,  -6.93480123,\n",
       "         -4.94252793,  -2.95025463,  -0.95798132,   1.03429198,\n",
       "          3.02656528,   5.01883859,   7.01111189,   9.00338519,\n",
       "         10.9956585 ,  12.9879318 ,  14.9802051 ,  16.97247841,\n",
       "         18.96475171,  20.95702501,  22.94929832,  24.94157162,\n",
       "         26.93384492,  28.92611823,  30.91839153,  32.91066483,\n",
       "         34.90293814,  36.89521144,  38.88748474,  40.87975805,\n",
       "         42.87203135,  44.86430465,  46.85657796,  48.84885126,\n",
       "         50.84112456,  52.83339787,  54.82567117,  56.81794447,\n",
       "         58.81021778,  60.80249108,  62.79476438,  64.78703769,\n",
       "         66.77931099,  68.77158429,  70.7638576 ,  72.7561309 ,\n",
       "         74.7484042 ,  76.74067751,  78.73295081,  80.72522411,\n",
       "         82.71749742,  84.70977072,  86.70204402,  88.69431733,\n",
       "         90.68659063,  92.67886393,  94.67113724,  96.66341054,\n",
       "         98.65568384, 100.64795715, 102.64023045, 104.63250375,\n",
       "        106.62477706, 108.61705036, 110.60932366, 112.60159697,\n",
       "        114.59387027, 116.58614357, 118.57841688, 120.57069018,\n",
       "        122.56296348, 124.55523679, 126.54751009, 128.53978339,\n",
       "        130.5320567 , 132.52433   , 134.5166033 , 136.5088766 ,\n",
       "        138.50114991, 140.49342321, 142.48569651, 144.47796982,\n",
       "        146.47024312, 148.46251642, 150.45478973, 152.44706303,\n",
       "        154.43933633, 156.43160964, 158.42388294, 160.41615624,\n",
       "        162.40842955, 164.40070285, 166.39297615, 168.38524946,\n",
       "        170.37752276, 172.36979606, 174.36206937, 176.35434267,\n",
       "        178.34661597, 180.33888928, 182.33116258, 184.32343588,\n",
       "        186.31570919, 188.30798249, 190.30025579, 192.2925291 ,\n",
       "        194.2848024 , 196.2770757 , 198.26934901, 200.26162231,\n",
       "        202.25389561, 204.24616892, 206.23844222, 208.23071552,\n",
       "        210.22298883, 212.21526213, 214.20753543, 216.19980874,\n",
       "        218.19208204, 220.18435534, 222.17662865, 224.16890195,\n",
       "        226.16117525, 228.15344856, 230.14572186, 232.13799516,\n",
       "        234.13026847, 236.12254177, 238.11481507, 240.10708838,\n",
       "        242.09936168, 244.09163498, 246.08390829, 248.07618159,\n",
       "        250.06845489, 252.0607282 , 254.0530015 , 256.0452748 ,\n",
       "        258.03754811, 260.02982141, 262.02209471, 264.01436802,\n",
       "        266.00664132, 267.99891462, 269.99118793, 271.98346123,\n",
       "        273.97573453, 275.96800784, 277.96028114, 279.95255444,\n",
       "        281.94482775, 283.93710105, 285.92937435, 287.92164766,\n",
       "        289.91392096, 291.90619426, 293.89846757, 295.89074087,\n",
       "        297.88301417, 299.87528748, 301.86756078, 303.85983408,\n",
       "        305.85210739, 307.84438069, 309.83665399, 311.8289273 ,\n",
       "        313.8212006 , 315.8134739 , 317.80574721, 319.79802051,\n",
       "        321.79029381, 323.78256712, 325.77484042, 327.76711372,\n",
       "        329.75938703, 331.75166033, 333.74393363, 335.73620694,\n",
       "        337.72848024, 339.72075354, 341.71302685, 343.70530015,\n",
       "        345.69757345, 347.68984676, 349.68212006, 351.67439336,\n",
       "        353.66666667]),\n",
       " <BarContainer object of 200 artists>)"
      ]
     },
     "metadata": {},
     "execution_count": 429
    },
    {
     "output_type": "display_data",
     "data": {
      "text/plain": [
       "<Figure size 432x288 with 1 Axes>"
      ],
      "image/png": "[encoded data removed]"
     },
     "metadata": {
      "needs_background": "light"
     }
    }
   ],
   "metadata": {}
  },
  {
   "cell_type": "code",
   "execution_count": 425,
   "source": [
    "perct_less100 = bmw_price_pred_actual.loc[bmw_price_pred_actual[\"price_per_change\"]<=100,:]"
   ],
   "outputs": [],
   "metadata": {}
  },
  {
   "cell_type": "code",
   "execution_count": 427,
   "source": [
    "plt.hist(perct_less100[\"price_per_change\"], bins=50)"
   ],
   "outputs": [
    {
     "output_type": "execute_result",
     "data": {
      "text/plain": [
       "(array([  1.,   0.,   0.,   4.,   4.,   9.,   7.,  28.,  38.,  51.,  65.,\n",
       "        114., 125., 198., 232., 301., 295., 278., 221., 177., 115., 105.,\n",
       "         68.,  52.,  38.,  31.,  33.,  14.,  13.,   3.,  14.,  10.,  10.,\n",
       "          7.,   3.,   2.,   4.,   5.,   3.,   1.,   2.,   2.,   0.,   0.,\n",
       "          0.,   0.,   0.,   0.,   0.,   2.]),\n",
       " array([-44.787994  , -42.03660807, -39.28522215, -36.53383623,\n",
       "        -33.7824503 , -31.03106438, -28.27967846, -25.52829253,\n",
       "        -22.77690661, -20.02552069, -17.27413476, -14.52274884,\n",
       "        -11.77136292,  -9.01997699,  -6.26859107,  -3.51720515,\n",
       "         -0.76581922,   1.9855667 ,   4.73695262,   7.48833855,\n",
       "         10.23972447,  12.99111039,  15.74249632,  18.49388224,\n",
       "         21.24526816,  23.99665409,  26.74804001,  29.49942593,\n",
       "         32.25081186,  35.00219778,  37.7535837 ,  40.50496963,\n",
       "         43.25635555,  46.00774147,  48.7591274 ,  51.51051332,\n",
       "         54.26189924,  57.01328517,  59.76467109,  62.51605701,\n",
       "         65.26744294,  68.01882886,  70.77021478,  73.52160071,\n",
       "         76.27298663,  79.02437255,  81.77575848,  84.5271444 ,\n",
       "         87.27853032,  90.02991625,  92.78130217]),\n",
       " <BarContainer object of 50 artists>)"
      ]
     },
     "metadata": {},
     "execution_count": 427
    },
    {
     "output_type": "display_data",
     "data": {
      "text/plain": [
       "<Figure size 432x288 with 1 Axes>"
      ],
      "image/png": "[encoded data removed]"
     },
     "metadata": {
      "needs_background": "light"
     }
    }
   ],
   "metadata": {}
  },
  {
   "cell_type": "code",
   "execution_count": 435,
   "source": [
    "bmw_price_pred_actual.loc[bmw_price_pred_actual[\"price_per_change\"].between(-10,10),:].shape"
   ],
   "outputs": [
    {
     "output_type": "execute_result",
     "data": {
      "text/plain": [
       "(1738, 10)"
      ]
     },
     "metadata": {},
     "execution_count": 435
    }
   ],
   "metadata": {}
  },
  {
   "cell_type": "code",
   "execution_count": 434,
   "source": [
    "bmw_price_pred_actual.shape"
   ],
   "outputs": [
    {
     "output_type": "execute_result",
     "data": {
      "text/plain": [
       "(2696, 10)"
      ]
     },
     "metadata": {},
     "execution_count": 434
    }
   ],
   "metadata": {}
  },
  {
   "cell_type": "code",
   "execution_count": 438,
   "source": [
    "sns.boxplot(bmw_price_pred_actual[\"price_pred\"])"
   ],
   "outputs": [
    {
     "output_type": "stream",
     "name": "stderr",
     "text": [
      "/Users/royceto/anaconda3/envs/myenv/lib/python3.7/site-packages/seaborn/_decorators.py:43: FutureWarning: Pass the following variable as a keyword arg: x. From version 0.12, the only valid positional argument will be `data`, and passing other arguments without an explicit keyword will result in an error or misinterpretation.\n",
      "  FutureWarning\n"
     ]
    },
    {
     "output_type": "error",
     "ename": "KeyError",
     "evalue": "'price_price'",
     "traceback": [
      "\u001b[0;31m---------------------------------------------------------------------------\u001b[0m",
      "\u001b[0;31mKeyError\u001b[0m                                  Traceback (most recent call last)",
      "\u001b[0;32m~/anaconda3/envs/myenv/lib/python3.7/site-packages/pandas/core/indexes/base.py\u001b[0m in \u001b[0;36mget_loc\u001b[0;34m(self, key, method, tolerance)\u001b[0m\n\u001b[1;32m   3079\u001b[0m             \u001b[0;32mtry\u001b[0m\u001b[0;34m:\u001b[0m\u001b[0;34m\u001b[0m\u001b[0;34m\u001b[0m\u001b[0m\n\u001b[0;32m-> 3080\u001b[0;31m                 \u001b[0;32mreturn\u001b[0m \u001b[0mself\u001b[0m\u001b[0;34m.\u001b[0m\u001b[0m_engine\u001b[0m\u001b[0;34m.\u001b[0m\u001b[0mget_loc\u001b[0m\u001b[0;34m(\u001b[0m\u001b[0mcasted_key\u001b[0m\u001b[0;34m)\u001b[0m\u001b[0;34m\u001b[0m\u001b[0;34m\u001b[0m\u001b[0m\n\u001b[0m\u001b[1;32m   3081\u001b[0m             \u001b[0;32mexcept\u001b[0m \u001b[0mKeyError\u001b[0m \u001b[0;32mas\u001b[0m \u001b[0merr\u001b[0m\u001b[0;34m:\u001b[0m\u001b[0;34m\u001b[0m\u001b[0;34m\u001b[0m\u001b[0m\n",
      "\u001b[0;32mpandas/_libs/index.pyx\u001b[0m in \u001b[0;36mpandas._libs.index.IndexEngine.get_loc\u001b[0;34m()\u001b[0m\n",
      "\u001b[0;32mpandas/_libs/index.pyx\u001b[0m in \u001b[0;36mpandas._libs.index.IndexEngine.get_loc\u001b[0;34m()\u001b[0m\n",
      "\u001b[0;32mpandas/_libs/hashtable_class_helper.pxi\u001b[0m in \u001b[0;36mpandas._libs.hashtable.PyObjectHashTable.get_item\u001b[0;34m()\u001b[0m\n",
      "\u001b[0;32mpandas/_libs/hashtable_class_helper.pxi\u001b[0m in \u001b[0;36mpandas._libs.hashtable.PyObjectHashTable.get_item\u001b[0;34m()\u001b[0m\n",
      "\u001b[0;31mKeyError\u001b[0m: 'price_price'",
      "\nThe above exception was the direct cause of the following exception:\n",
      "\u001b[0;31mKeyError\u001b[0m                                  Traceback (most recent call last)",
      "\u001b[0;32m<ipython-input-438-201b9e15fac7>\u001b[0m in \u001b[0;36m<module>\u001b[0;34m\u001b[0m\n\u001b[1;32m      1\u001b[0m \u001b[0msns\u001b[0m\u001b[0;34m.\u001b[0m\u001b[0mboxplot\u001b[0m\u001b[0;34m(\u001b[0m\u001b[0mbmw_price_pred_actual\u001b[0m\u001b[0;34m[\u001b[0m\u001b[0;34m\"price_pred\"\u001b[0m\u001b[0;34m]\u001b[0m\u001b[0;34m)\u001b[0m\u001b[0;34m\u001b[0m\u001b[0;34m\u001b[0m\u001b[0m\n\u001b[0;32m----> 2\u001b[0;31m \u001b[0msns\u001b[0m\u001b[0;34m.\u001b[0m\u001b[0mboxplot\u001b[0m\u001b[0;34m(\u001b[0m\u001b[0mbmw_price_pred_actual\u001b[0m\u001b[0;34m[\u001b[0m\u001b[0;34m\"price_price\"\u001b[0m\u001b[0;34m]\u001b[0m\u001b[0;34m)\u001b[0m\u001b[0;34m\u001b[0m\u001b[0;34m\u001b[0m\u001b[0m\n\u001b[0m",
      "\u001b[0;32m~/anaconda3/envs/myenv/lib/python3.7/site-packages/pandas/core/frame.py\u001b[0m in \u001b[0;36m__getitem__\u001b[0;34m(self, key)\u001b[0m\n\u001b[1;32m   3022\u001b[0m             \u001b[0;32mif\u001b[0m \u001b[0mself\u001b[0m\u001b[0;34m.\u001b[0m\u001b[0mcolumns\u001b[0m\u001b[0;34m.\u001b[0m\u001b[0mnlevels\u001b[0m \u001b[0;34m>\u001b[0m \u001b[0;36m1\u001b[0m\u001b[0;34m:\u001b[0m\u001b[0;34m\u001b[0m\u001b[0;34m\u001b[0m\u001b[0m\n\u001b[1;32m   3023\u001b[0m                 \u001b[0;32mreturn\u001b[0m \u001b[0mself\u001b[0m\u001b[0;34m.\u001b[0m\u001b[0m_getitem_multilevel\u001b[0m\u001b[0;34m(\u001b[0m\u001b[0mkey\u001b[0m\u001b[0;34m)\u001b[0m\u001b[0;34m\u001b[0m\u001b[0;34m\u001b[0m\u001b[0m\n\u001b[0;32m-> 3024\u001b[0;31m             \u001b[0mindexer\u001b[0m \u001b[0;34m=\u001b[0m \u001b[0mself\u001b[0m\u001b[0;34m.\u001b[0m\u001b[0mcolumns\u001b[0m\u001b[0;34m.\u001b[0m\u001b[0mget_loc\u001b[0m\u001b[0;34m(\u001b[0m\u001b[0mkey\u001b[0m\u001b[0;34m)\u001b[0m\u001b[0;34m\u001b[0m\u001b[0;34m\u001b[0m\u001b[0m\n\u001b[0m\u001b[1;32m   3025\u001b[0m             \u001b[0;32mif\u001b[0m \u001b[0mis_integer\u001b[0m\u001b[0;34m(\u001b[0m\u001b[0mindexer\u001b[0m\u001b[0;34m)\u001b[0m\u001b[0;34m:\u001b[0m\u001b[0;34m\u001b[0m\u001b[0;34m\u001b[0m\u001b[0m\n\u001b[1;32m   3026\u001b[0m                 \u001b[0mindexer\u001b[0m \u001b[0;34m=\u001b[0m \u001b[0;34m[\u001b[0m\u001b[0mindexer\u001b[0m\u001b[0;34m]\u001b[0m\u001b[0;34m\u001b[0m\u001b[0;34m\u001b[0m\u001b[0m\n",
      "\u001b[0;32m~/anaconda3/envs/myenv/lib/python3.7/site-packages/pandas/core/indexes/base.py\u001b[0m in \u001b[0;36mget_loc\u001b[0;34m(self, key, method, tolerance)\u001b[0m\n\u001b[1;32m   3080\u001b[0m                 \u001b[0;32mreturn\u001b[0m \u001b[0mself\u001b[0m\u001b[0;34m.\u001b[0m\u001b[0m_engine\u001b[0m\u001b[0;34m.\u001b[0m\u001b[0mget_loc\u001b[0m\u001b[0;34m(\u001b[0m\u001b[0mcasted_key\u001b[0m\u001b[0;34m)\u001b[0m\u001b[0;34m\u001b[0m\u001b[0;34m\u001b[0m\u001b[0m\n\u001b[1;32m   3081\u001b[0m             \u001b[0;32mexcept\u001b[0m \u001b[0mKeyError\u001b[0m \u001b[0;32mas\u001b[0m \u001b[0merr\u001b[0m\u001b[0;34m:\u001b[0m\u001b[0;34m\u001b[0m\u001b[0;34m\u001b[0m\u001b[0m\n\u001b[0;32m-> 3082\u001b[0;31m                 \u001b[0;32mraise\u001b[0m \u001b[0mKeyError\u001b[0m\u001b[0;34m(\u001b[0m\u001b[0mkey\u001b[0m\u001b[0;34m)\u001b[0m \u001b[0;32mfrom\u001b[0m \u001b[0merr\u001b[0m\u001b[0;34m\u001b[0m\u001b[0;34m\u001b[0m\u001b[0m\n\u001b[0m\u001b[1;32m   3083\u001b[0m \u001b[0;34m\u001b[0m\u001b[0m\n\u001b[1;32m   3084\u001b[0m         \u001b[0;32mif\u001b[0m \u001b[0mtolerance\u001b[0m \u001b[0;32mis\u001b[0m \u001b[0;32mnot\u001b[0m \u001b[0;32mNone\u001b[0m\u001b[0;34m:\u001b[0m\u001b[0;34m\u001b[0m\u001b[0;34m\u001b[0m\u001b[0m\n",
      "\u001b[0;31mKeyError\u001b[0m: 'price_price'"
     ]
    },
    {
     "output_type": "display_data",
     "data": {
      "text/plain": [
       "<Figure size 432x288 with 1 Axes>"
      ],
      "image/png": "[encoded data removed]"
     },
     "metadata": {
      "needs_background": "light"
     }
    }
   ],
   "metadata": {}
  },
  {
   "cell_type": "code",
   "execution_count": 449,
   "source": [
    "sns.boxplot(y=bmw_price_pred_actual[\"price\"])"
   ],
   "outputs": [
    {
     "output_type": "execute_result",
     "data": {
      "text/plain": [
       "<AxesSubplot:ylabel='price'>"
      ]
     },
     "metadata": {},
     "execution_count": 449
    },
    {
     "output_type": "display_data",
     "data": {
      "text/plain": [
       "<Figure size 432x288 with 1 Axes>"
      ],
      "image/png": "[encoded data removed]"
     },
     "metadata": {
      "needs_background": "light"
     }
    }
   ],
   "metadata": {}
  },
  {
   "cell_type": "code",
   "execution_count": null,
   "source": [],
   "outputs": [],
   "metadata": {}
  }
 ],
 "metadata": {
  "orig_nbformat": 4,
  "language_info": {
   "name": "python",
   "version": "3.7.7",
   "mimetype": "text/x-python",
   "codemirror_mode": {
    "name": "ipython",
    "version": 3
   },
   "pygments_lexer": "ipython3",
   "nbconvert_exporter": "python",
   "file_extension": ".py"
  },
  "kernelspec": {
   "name": "python3",
   "display_name": "Python 3.7.7 64-bit (conda)"
  },
  "interpreter": {
   "hash": "00fbe7a0ffdff41cb6153984e119c63b68f43f50190a26a2d6b6229a722be293"
  }
 },
 "nbformat": 4,
 "nbformat_minor": 2
}